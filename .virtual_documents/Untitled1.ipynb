import torch, platform
print("Python:", platform.python_version())
print("PyTorch:", torch.__version__)
print("Built with CUDA:", torch.version.cuda)
print("cuDNN:", torch.backends.cudnn.version())
print("CUDA available:", torch.cuda.is_available())

if torch.cuda.is_available():
    print("GPU count:", torch.cuda.device_count())
    print("GPU 0:", torch.cuda.get_device_name(0))
    props = torch.cuda.get_device_properties(0)
    total_gb = props.total_memory / (1024**3)
    print(f"Total VRAM: {total_gb:.2f} GB")




