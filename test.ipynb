import os
import sys
import numpy as np
import tensorflow as tf
import matplotlib.pyplot as plt
from tensorflow.keras.preprocessing import image
from pathlib import Path

# =========================
# 1. CONFIGURE THESE PATHS
# =========================

# Path to your trained .h5 model
MODEL_PATH = Path("/home/muhammad-noman/projects/plant_disease-gpu-env/models/tomato_lemon_leaf_model.h5")

# Path to any test image you want to classify
# Put an actual image file here (jpg/jpeg/png)
IMG_PATH = Path("/home/muhammad-noman/projects/plant_disease-gpu-env/sample_leaf.jpg")

# The image size your model expects.
# Most Keras leaf models use 224x224 or 256x256.
# If you know the size you trained on, put that here.
IMG_SIZE = (224, 224)

# The class order used when this model was trained.
# You MUST set these labels in the SAME order as the model's final Dense layer output.
# Example placeholder below:
CLASS_NAMES = [
    "tomato_healthy",
    "tomato_diseased",
    "lemon_healthy",
    "lemon_diseased"
]

# If your model was ONLY tomato, maybe it's just:
# CLASS_NAMES = ["tomato_healthy", "tomato_diseased"]
#
# If you're not 100% sure, tell me what problem this model was trained for
# (tomato only? tomato + lemon? how many classes?) and I'll help you guess.


# =========================
# 2. RUNTIME SANITY INFO
# =========================

print("🔁 Using Python:", sys.executable)
print("🔁 TensorFlow version:", tf.__version__)

physical_gpus = tf.config.list_physical_devices('GPU')
if len(physical_gpus) > 0:
    print(f"🟢 GPU detected ({len(physical_gpus)} available):", physical_gpus)
else:
    print("🟡 No GPU detected by TensorFlow, running on CPU.")

if not MODEL_PATH.exists():
    raise FileNotFoundError(f"❌ MODEL_PATH not found: {MODEL_PATH}")

if not IMG_PATH.exists():
    raise FileNotFoundError(f"❌ IMG_PATH not found: {IMG_PATH}")


# =========================
# 3. LOAD THE MODEL
# =========================

print(f"\n📦 Loading model from: {MODEL_PATH}")
model = tf.keras.models.load_model(MODEL_PATH)
model.summary()  # this prints the architecture so you can confirm last layer shape

# number of classes the model predicts
num_model_outputs = model.output_shape[-1]
print(f"\nModel output units: {num_model_outputs}")

if num_model_outputs != len(CLASS_NAMES):
    print("⚠️ WARNING: CLASS_NAMES length does not match model output units!")
    print(f"   len(CLASS_NAMES) = {len(CLASS_NAMES)}")
    print("   You MUST fix CLASS_NAMES to match the class order used in training.\n")


# =========================
# 4. LOAD + PREPROCESS IMAGE
# =========================

print(f"🖼 Loading image: {IMG_PATH}")

# Load and resize image for the network
img = image.load_img(IMG_PATH, target_size=IMG_SIZE)
img_arr = image.img_to_array(img)  # shape: (H, W, 3), dtype=float32

# Scale pixels to [0,1] if that's how you trained (typical Keras practice)
img_arr = img_arr / 255.0

# Add batch dimension -> shape: (1, H, W, 3)
img_batch = np.expand_dims(img_arr, axis=0)

print("   Image batch shape:", img_batch.shape)


# =========================
# 5. INFERENCE
# =========================

print("\n🚀 Running inference...")
pred_logits = model.predict(img_batch)  # shape: (1, num_classes)

# Softmax to get probabilities across classes
probs = tf.nn.softmax(pred_logits[0]).numpy()  # shape: (num_classes,)

top_idx = int(np.argmax(probs))
top_label = CLASS_NAMES[top_idx] if top_idx < len(CLASS_NAMES) else f"class_{top_idx}"
top_conf = float(probs[top_idx]) * 100.0

print("\n🔎 Prediction Result:")
print(f"   Predicted class : {top_label}")
print(f"   Confidence      : {top_conf:.2f}%")

print("\n📊 Full class probabilities:")
for i, (cls_name, p) in enumerate(zip(CLASS_NAMES, probs)):
    print(f"   [{i:02d}] {cls_name:<40} {p*100:.2f}%")

# =========================
# 6. VISUALIZE RESULT
# =========================

plt.figure(figsize=(4,4))
plt.imshow(img_arr)
plt.axis("off")
plt.title(f"{top_label} ({top_conf:.1f}%)", fontsize=10)
plt.show()
